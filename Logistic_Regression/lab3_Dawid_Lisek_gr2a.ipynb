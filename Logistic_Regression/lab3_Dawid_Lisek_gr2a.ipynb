{
 "cells": [
  {
   "cell_type": "markdown",
   "metadata": {},
   "source": [
    "### Uczenie maszynowe \n",
    "### Lab3 Regresja logistyczna"
   ]
  },
  {
   "cell_type": "markdown",
   "metadata": {},
   "source": [
    "### Dawid Lisek gr. 2A"
   ]
  },
  {
   "cell_type": "markdown",
   "metadata": {},
   "source": [
    "16.03.2022\n",
    "\n",
    "Śr 14.00 - 15.30 "
   ]
  },
  {
   "cell_type": "markdown",
   "metadata": {},
   "source": [
    "Importowanie pakietów:"
   ]
  },
  {
   "cell_type": "code",
   "execution_count": 59,
   "metadata": {},
   "outputs": [],
   "source": [
    "import numpy as np\n",
    "import pandas as pd\n",
    "import matplotlib.pyplot as plt"
   ]
  },
  {
   "cell_type": "code",
   "execution_count": 60,
   "metadata": {},
   "outputs": [],
   "source": [
    "import os\n",
    "path = os.getcwd() + '/ex2data1.txt'\n",
    "data = pd.read_csv(path, header=None, names=['Exam 1', 'Exam 2', 'Admitted'])"
   ]
  },
  {
   "cell_type": "markdown",
   "metadata": {},
   "source": [
    "Ex. 0.: Please get yourself familiar with the data.\n"
   ]
  },
  {
   "cell_type": "code",
   "execution_count": 61,
   "metadata": {},
   "outputs": [
    {
     "data": {
      "text/html": [
       "<div>\n",
       "<style scoped>\n",
       "    .dataframe tbody tr th:only-of-type {\n",
       "        vertical-align: middle;\n",
       "    }\n",
       "\n",
       "    .dataframe tbody tr th {\n",
       "        vertical-align: top;\n",
       "    }\n",
       "\n",
       "    .dataframe thead th {\n",
       "        text-align: right;\n",
       "    }\n",
       "</style>\n",
       "<table border=\"1\" class=\"dataframe\">\n",
       "  <thead>\n",
       "    <tr style=\"text-align: right;\">\n",
       "      <th></th>\n",
       "      <th>Exam 1</th>\n",
       "      <th>Exam 2</th>\n",
       "      <th>Admitted</th>\n",
       "    </tr>\n",
       "  </thead>\n",
       "  <tbody>\n",
       "    <tr>\n",
       "      <th>0</th>\n",
       "      <td>34.623660</td>\n",
       "      <td>78.024693</td>\n",
       "      <td>0</td>\n",
       "    </tr>\n",
       "    <tr>\n",
       "      <th>1</th>\n",
       "      <td>30.286711</td>\n",
       "      <td>43.894998</td>\n",
       "      <td>0</td>\n",
       "    </tr>\n",
       "    <tr>\n",
       "      <th>2</th>\n",
       "      <td>35.847409</td>\n",
       "      <td>72.902198</td>\n",
       "      <td>0</td>\n",
       "    </tr>\n",
       "    <tr>\n",
       "      <th>3</th>\n",
       "      <td>60.182599</td>\n",
       "      <td>86.308552</td>\n",
       "      <td>1</td>\n",
       "    </tr>\n",
       "    <tr>\n",
       "      <th>4</th>\n",
       "      <td>79.032736</td>\n",
       "      <td>75.344376</td>\n",
       "      <td>1</td>\n",
       "    </tr>\n",
       "  </tbody>\n",
       "</table>\n",
       "</div>"
      ],
      "text/plain": [
       "      Exam 1     Exam 2  Admitted\n",
       "0  34.623660  78.024693         0\n",
       "1  30.286711  43.894998         0\n",
       "2  35.847409  72.902198         0\n",
       "3  60.182599  86.308552         1\n",
       "4  79.032736  75.344376         1"
      ]
     },
     "execution_count": 61,
     "metadata": {},
     "output_type": "execute_result"
    }
   ],
   "source": [
    "data.head()"
   ]
  },
  {
   "cell_type": "code",
   "execution_count": 62,
   "metadata": {},
   "outputs": [
    {
     "data": {
      "text/html": [
       "<div>\n",
       "<style scoped>\n",
       "    .dataframe tbody tr th:only-of-type {\n",
       "        vertical-align: middle;\n",
       "    }\n",
       "\n",
       "    .dataframe tbody tr th {\n",
       "        vertical-align: top;\n",
       "    }\n",
       "\n",
       "    .dataframe thead th {\n",
       "        text-align: right;\n",
       "    }\n",
       "</style>\n",
       "<table border=\"1\" class=\"dataframe\">\n",
       "  <thead>\n",
       "    <tr style=\"text-align: right;\">\n",
       "      <th></th>\n",
       "      <th>Exam 1</th>\n",
       "      <th>Exam 2</th>\n",
       "      <th>Admitted</th>\n",
       "    </tr>\n",
       "  </thead>\n",
       "  <tbody>\n",
       "    <tr>\n",
       "      <th>count</th>\n",
       "      <td>100.000000</td>\n",
       "      <td>100.000000</td>\n",
       "      <td>100.000000</td>\n",
       "    </tr>\n",
       "    <tr>\n",
       "      <th>mean</th>\n",
       "      <td>65.644274</td>\n",
       "      <td>66.221998</td>\n",
       "      <td>0.600000</td>\n",
       "    </tr>\n",
       "    <tr>\n",
       "      <th>std</th>\n",
       "      <td>19.458222</td>\n",
       "      <td>18.582783</td>\n",
       "      <td>0.492366</td>\n",
       "    </tr>\n",
       "    <tr>\n",
       "      <th>min</th>\n",
       "      <td>30.058822</td>\n",
       "      <td>30.603263</td>\n",
       "      <td>0.000000</td>\n",
       "    </tr>\n",
       "    <tr>\n",
       "      <th>25%</th>\n",
       "      <td>50.919511</td>\n",
       "      <td>48.179205</td>\n",
       "      <td>0.000000</td>\n",
       "    </tr>\n",
       "    <tr>\n",
       "      <th>50%</th>\n",
       "      <td>67.032988</td>\n",
       "      <td>67.682381</td>\n",
       "      <td>1.000000</td>\n",
       "    </tr>\n",
       "    <tr>\n",
       "      <th>75%</th>\n",
       "      <td>80.212529</td>\n",
       "      <td>79.360605</td>\n",
       "      <td>1.000000</td>\n",
       "    </tr>\n",
       "    <tr>\n",
       "      <th>max</th>\n",
       "      <td>99.827858</td>\n",
       "      <td>98.869436</td>\n",
       "      <td>1.000000</td>\n",
       "    </tr>\n",
       "  </tbody>\n",
       "</table>\n",
       "</div>"
      ],
      "text/plain": [
       "           Exam 1      Exam 2    Admitted\n",
       "count  100.000000  100.000000  100.000000\n",
       "mean    65.644274   66.221998    0.600000\n",
       "std     19.458222   18.582783    0.492366\n",
       "min     30.058822   30.603263    0.000000\n",
       "25%     50.919511   48.179205    0.000000\n",
       "50%     67.032988   67.682381    1.000000\n",
       "75%     80.212529   79.360605    1.000000\n",
       "max     99.827858   98.869436    1.000000"
      ]
     },
     "execution_count": 62,
     "metadata": {},
     "output_type": "execute_result"
    }
   ],
   "source": [
    "data.describe()"
   ]
  },
  {
   "cell_type": "markdown",
   "metadata": {},
   "source": [
    " Ex. 1.: Please follow the steps below:\n",
    "\n",
    "    -add a column with values '1'\n",
    "    -divide the data into parameters (X) and labels/classes (y)\n",
    "    -data conversion to numpy ( np.array )\n"
   ]
  },
  {
   "cell_type": "markdown",
   "metadata": {},
   "source": [
    "Normalizacja:"
   ]
  },
  {
   "cell_type": "code",
   "execution_count": 63,
   "metadata": {},
   "outputs": [],
   "source": [
    "data.insert(0, 'ones', [1 for x in range(len(data))])"
   ]
  },
  {
   "cell_type": "markdown",
   "metadata": {},
   "source": [
    "Dane po dodaniu kolumny 'ones' oraz normalizacji:"
   ]
  },
  {
   "cell_type": "code",
   "execution_count": 64,
   "metadata": {},
   "outputs": [
    {
     "data": {
      "text/html": [
       "<div>\n",
       "<style scoped>\n",
       "    .dataframe tbody tr th:only-of-type {\n",
       "        vertical-align: middle;\n",
       "    }\n",
       "\n",
       "    .dataframe tbody tr th {\n",
       "        vertical-align: top;\n",
       "    }\n",
       "\n",
       "    .dataframe thead th {\n",
       "        text-align: right;\n",
       "    }\n",
       "</style>\n",
       "<table border=\"1\" class=\"dataframe\">\n",
       "  <thead>\n",
       "    <tr style=\"text-align: right;\">\n",
       "      <th></th>\n",
       "      <th>ones</th>\n",
       "      <th>Exam 1</th>\n",
       "      <th>Exam 2</th>\n",
       "      <th>Admitted</th>\n",
       "    </tr>\n",
       "  </thead>\n",
       "  <tbody>\n",
       "    <tr>\n",
       "      <th>0</th>\n",
       "      <td>1</td>\n",
       "      <td>34.623660</td>\n",
       "      <td>78.024693</td>\n",
       "      <td>0</td>\n",
       "    </tr>\n",
       "    <tr>\n",
       "      <th>1</th>\n",
       "      <td>1</td>\n",
       "      <td>30.286711</td>\n",
       "      <td>43.894998</td>\n",
       "      <td>0</td>\n",
       "    </tr>\n",
       "    <tr>\n",
       "      <th>2</th>\n",
       "      <td>1</td>\n",
       "      <td>35.847409</td>\n",
       "      <td>72.902198</td>\n",
       "      <td>0</td>\n",
       "    </tr>\n",
       "    <tr>\n",
       "      <th>3</th>\n",
       "      <td>1</td>\n",
       "      <td>60.182599</td>\n",
       "      <td>86.308552</td>\n",
       "      <td>1</td>\n",
       "    </tr>\n",
       "    <tr>\n",
       "      <th>4</th>\n",
       "      <td>1</td>\n",
       "      <td>79.032736</td>\n",
       "      <td>75.344376</td>\n",
       "      <td>1</td>\n",
       "    </tr>\n",
       "  </tbody>\n",
       "</table>\n",
       "</div>"
      ],
      "text/plain": [
       "   ones     Exam 1     Exam 2  Admitted\n",
       "0     1  34.623660  78.024693         0\n",
       "1     1  30.286711  43.894998         0\n",
       "2     1  35.847409  72.902198         0\n",
       "3     1  60.182599  86.308552         1\n",
       "4     1  79.032736  75.344376         1"
      ]
     },
     "execution_count": 64,
     "metadata": {},
     "output_type": "execute_result"
    }
   ],
   "source": [
    "data.head()"
   ]
  },
  {
   "cell_type": "code",
   "execution_count": 65,
   "metadata": {},
   "outputs": [],
   "source": [
    "X = data[['ones', 'Exam 1', 'Exam 2']]\n",
    "y = data['Admitted']\n",
    "X = np.array(X.values)\n",
    "y = np.array(y.values)"
   ]
  },
  {
   "cell_type": "markdown",
   "metadata": {},
   "source": [
    "Ex. 2.: Please plot the loaded data in the graph (using scatter plot). Can be both: a 2D plot with marks colored regarding to the class or a 3D plot with the class showed as 3rd dimension."
   ]
  },
  {
   "cell_type": "code",
   "execution_count": 66,
   "metadata": {},
   "outputs": [],
   "source": [
    "admitted_1 = data.loc[data['Admitted'] == 1]\n",
    "admitted_0 = data.loc[data['Admitted'] == 0]"
   ]
  },
  {
   "cell_type": "code",
   "execution_count": 67,
   "metadata": {},
   "outputs": [
    {
     "data": {
      "image/png": "[encoded data removed]",
      "text/plain": [
       "<Figure size 720x360 with 1 Axes>"
      ]
     },
     "metadata": {
      "needs_background": "light"
     },
     "output_type": "display_data"
    }
   ],
   "source": [
    "plt.figure(figsize=(10, 5))\n",
    "plt.scatter(x=admitted_1['Exam 1'], y=admitted_1['Exam 2'], color='r', label='Not admitted')\n",
    "plt.scatter(x=admitted_0['Exam 1'], y=admitted_0['Exam 2'], color='g', label='Admitted')\n",
    "plt.legend(loc='best')\n",
    "plt.ylabel('Exam 2 score')\n",
    "plt.xlabel('Exam 1 score')\n",
    "plt.show()"
   ]
  },
  {
   "cell_type": "markdown",
   "metadata": {},
   "source": [
    "Ex 3"
   ]
  },
  {
   "cell_type": "code",
   "execution_count": 68,
   "metadata": {},
   "outputs": [],
   "source": [
    "def sig(t):\n",
    "    return 1 / (1 + np.exp(-t))"
   ]
  },
  {
   "cell_type": "code",
   "execution_count": 69,
   "metadata": {},
   "outputs": [
    {
     "data": {
      "image/png": "[encoded data removed]",
      "text/plain": [
       "<Figure size 432x288 with 1 Axes>"
      ]
     },
     "metadata": {
      "needs_background": "light"
     },
     "output_type": "display_data"
    }
   ],
   "source": [
    "plt.figure()\n",
    "plt.plot(np.arange(start=-5, stop = 5, step = 0.5), sig(np.arange(start=-5, stop = 5, step = 0.5)))\n",
    "plt.show()"
   ]
  },
  {
   "cell_type": "markdown",
   "metadata": {},
   "source": [
    "Ex 5"
   ]
  },
  {
   "cell_type": "markdown",
   "metadata": {},
   "source": [
    "Normalizacja:"
   ]
  },
  {
   "cell_type": "code",
   "execution_count": 70,
   "metadata": {},
   "outputs": [],
   "source": [
    "for col in data[['Exam 1', 'Exam 2']].columns:\n",
    "    data[col] = (data[col] - data[col].mean()) / data[col].std()\n",
    "\n",
    "X = data[['ones', 'Exam 1', 'Exam 2']]\n",
    "y = data['Admitted']\n",
    "X = np.array(X.values)\n",
    "y = np.array(y.values)"
   ]
  },
  {
   "cell_type": "code",
   "execution_count": 71,
   "metadata": {},
   "outputs": [],
   "source": [
    "theta = np.zeros(3)"
   ]
  },
  {
   "cell_type": "code",
   "execution_count": 72,
   "metadata": {},
   "outputs": [],
   "source": [
    "def compute_cost(theta, X, y):\n",
    "    m = len(y)\n",
    "    h_theta = sig(theta @ X.T)\n",
    "    cost = (-y @ np.log(h_theta) - (1 - y) @ np.log(1 - h_theta)) / m\n",
    "    return cost"
   ]
  },
  {
   "cell_type": "code",
   "execution_count": 73,
   "metadata": {},
   "outputs": [
    {
     "data": {
      "text/plain": [
       "0.6931471805599452"
      ]
     },
     "execution_count": 73,
     "metadata": {},
     "output_type": "execute_result"
    }
   ],
   "source": [
    "compute_cost(theta, X, y)"
   ]
  },
  {
   "cell_type": "markdown",
   "metadata": {},
   "source": [
    "Ex. 6.: Please implement simple gradient function:"
   ]
  },
  {
   "cell_type": "code",
   "execution_count": 74,
   "metadata": {},
   "outputs": [],
   "source": [
    "def simple_gradient(X, y, theta, alpha, it):\n",
    "    cost = []\n",
    "    theta = list(theta)\n",
    "    for _ in range(it):\n",
    "        m = len(X)\n",
    "        h_theta = sig(theta @ X.T)\n",
    "        for i in range(X.shape[1]):\n",
    "            theta[i] = theta[i] - alpha * np.sum(((h_theta - y)) * X[:, i])/m\n",
    "        cost.append(compute_cost(theta, X, y))\n",
    "    return np.array(theta), cost"
   ]
  },
  {
   "cell_type": "code",
   "execution_count": 75,
   "metadata": {},
   "outputs": [],
   "source": [
    "alpha = 1\n",
    "it = 150\n",
    "theta_opt, cost = simple_gradient(X, y, theta, alpha, it)"
   ]
  },
  {
   "cell_type": "code",
   "execution_count": 76,
   "metadata": {},
   "outputs": [
    {
     "data": {
      "text/plain": [
       "0.20647054423182587"
      ]
     },
     "execution_count": 76,
     "metadata": {},
     "output_type": "execute_result"
    }
   ],
   "source": [
    "cost[-1]"
   ]
  },
  {
   "cell_type": "code",
   "execution_count": 77,
   "metadata": {},
   "outputs": [
    {
     "data": {
      "text/plain": [
       "array([1.41682812, 3.36988187, 3.122184  ])"
      ]
     },
     "execution_count": 77,
     "metadata": {},
     "output_type": "execute_result"
    }
   ],
   "source": [
    "theta_opt"
   ]
  },
  {
   "cell_type": "code",
   "execution_count": 78,
   "metadata": {},
   "outputs": [
    {
     "data": {
      "image/png": "[encoded data removed]",
      "text/plain": [
       "<Figure size 432x288 with 1 Axes>"
      ]
     },
     "metadata": {
      "needs_background": "light"
     },
     "output_type": "display_data"
    }
   ],
   "source": [
    "plt.figure()\n",
    "plt.plot(np.arange(150), cost)\n",
    "plt.xlabel('Iteration number')\n",
    "plt.ylabel('Cost function value')\n",
    "plt.show()"
   ]
  },
  {
   "cell_type": "markdown",
   "metadata": {},
   "source": [
    "Ex. 7.: Please present the accuracy of the algorithm performance. Prediction values will be in the range [0; 1]. Threshold value = 0.5."
   ]
  },
  {
   "cell_type": "code",
   "execution_count": 79,
   "metadata": {},
   "outputs": [
    {
     "data": {
      "text/html": [
       "<div>\n",
       "<style scoped>\n",
       "    .dataframe tbody tr th:only-of-type {\n",
       "        vertical-align: middle;\n",
       "    }\n",
       "\n",
       "    .dataframe tbody tr th {\n",
       "        vertical-align: top;\n",
       "    }\n",
       "\n",
       "    .dataframe thead th {\n",
       "        text-align: right;\n",
       "    }\n",
       "</style>\n",
       "<table border=\"1\" class=\"dataframe\">\n",
       "  <thead>\n",
       "    <tr style=\"text-align: right;\">\n",
       "      <th></th>\n",
       "      <th>Admitted</th>\n",
       "      <th>Prediction</th>\n",
       "    </tr>\n",
       "  </thead>\n",
       "  <tbody>\n",
       "    <tr>\n",
       "      <th>0</th>\n",
       "      <td>0</td>\n",
       "      <td>0</td>\n",
       "    </tr>\n",
       "    <tr>\n",
       "      <th>1</th>\n",
       "      <td>0</td>\n",
       "      <td>0</td>\n",
       "    </tr>\n",
       "    <tr>\n",
       "      <th>2</th>\n",
       "      <td>0</td>\n",
       "      <td>0</td>\n",
       "    </tr>\n",
       "    <tr>\n",
       "      <th>3</th>\n",
       "      <td>1</td>\n",
       "      <td>1</td>\n",
       "    </tr>\n",
       "    <tr>\n",
       "      <th>4</th>\n",
       "      <td>1</td>\n",
       "      <td>1</td>\n",
       "    </tr>\n",
       "    <tr>\n",
       "      <th>...</th>\n",
       "      <td>...</td>\n",
       "      <td>...</td>\n",
       "    </tr>\n",
       "    <tr>\n",
       "      <th>95</th>\n",
       "      <td>1</td>\n",
       "      <td>1</td>\n",
       "    </tr>\n",
       "    <tr>\n",
       "      <th>96</th>\n",
       "      <td>1</td>\n",
       "      <td>1</td>\n",
       "    </tr>\n",
       "    <tr>\n",
       "      <th>97</th>\n",
       "      <td>1</td>\n",
       "      <td>1</td>\n",
       "    </tr>\n",
       "    <tr>\n",
       "      <th>98</th>\n",
       "      <td>1</td>\n",
       "      <td>0</td>\n",
       "    </tr>\n",
       "    <tr>\n",
       "      <th>99</th>\n",
       "      <td>1</td>\n",
       "      <td>1</td>\n",
       "    </tr>\n",
       "  </tbody>\n",
       "</table>\n",
       "<p>100 rows × 2 columns</p>\n",
       "</div>"
      ],
      "text/plain": [
       "    Admitted  Prediction\n",
       "0          0           0\n",
       "1          0           0\n",
       "2          0           0\n",
       "3          1           1\n",
       "4          1           1\n",
       "..       ...         ...\n",
       "95         1           1\n",
       "96         1           1\n",
       "97         1           1\n",
       "98         1           0\n",
       "99         1           1\n",
       "\n",
       "[100 rows x 2 columns]"
      ]
     },
     "execution_count": 79,
     "metadata": {},
     "output_type": "execute_result"
    }
   ],
   "source": [
    "p = (sig(np.dot(X, theta_opt)) >= 0.5).astype(int)\n",
    "df_pred = data[['Admitted']]\n",
    "df_pred.insert(1, 'Prediction', p)\n",
    "df_pred"
   ]
  },
  {
   "cell_type": "code",
   "execution_count": 80,
   "metadata": {},
   "outputs": [
    {
     "data": {
      "text/plain": [
       "0.89"
      ]
     },
     "execution_count": 80,
     "metadata": {},
     "output_type": "execute_result"
    }
   ],
   "source": [
    "accuracy = df_pred.loc[df_pred['Admitted'] == df_pred['Prediction']].shape[0] / df_pred.shape[0]\n",
    "accuracy"
   ]
  },
  {
   "cell_type": "markdown",
   "metadata": {},
   "source": [
    "### Logistic regression - Python"
   ]
  },
  {
   "cell_type": "markdown",
   "metadata": {},
   "source": [
    "Ex. 1.: Get yourself familiar with the object sklearn.linear_model.LogisticRegression and choose appropriate optimalization algorithm, regularization coefficient and create a regression model."
   ]
  },
  {
   "cell_type": "code",
   "execution_count": 81,
   "metadata": {},
   "outputs": [],
   "source": [
    "import numpy as np\n",
    "import matplotlib.pyplot as plt\n",
    "from sklearn.linear_model import LogisticRegression\n",
    "from sklearn import datasets\n",
    "from sklearn.metrics import accuracy_score, mean_squared_error\n",
    " \n",
    "iris = datasets.load_iris()\n",
    "X = iris.data[:, :2]  # we are analyzing only 2 parameters\n",
    "Y = iris.target"
   ]
  },
  {
   "cell_type": "code",
   "execution_count": 82,
   "metadata": {},
   "outputs": [
    {
     "data": {
      "text/plain": [
       "LogisticRegression()"
      ]
     },
     "execution_count": 82,
     "metadata": {},
     "output_type": "execute_result"
    }
   ],
   "source": [
    "logreg = LogisticRegression()\n",
    "logreg.fit(X, Y)"
   ]
  },
  {
   "cell_type": "code",
   "execution_count": 89,
   "metadata": {},
   "outputs": [
    {
     "name": "stderr",
     "output_type": "stream",
     "text": [
      "<ipython-input-89-c3423fd7ec04>:12: MatplotlibDeprecationWarning: shading='flat' when X and Y have the same dimensions as C is deprecated since 3.3.  Either specify the corners of the quadrilaterals with X and Y, or pass shading='auto', 'nearest' or 'gouraud', or set rcParams['pcolor.shading'].  This will become an error two minor releases later.\n",
      "  plt.pcolormesh(xx, yy, Z, cmap=plt.cm.Paired)\n"
     ]
    },
    {
     "data": {
      "image/png": "[encoded data removed]",
      "text/plain": [
       "<Figure size 720x360 with 1 Axes>"
      ]
     },
     "metadata": {},
     "output_type": "display_data"
    }
   ],
   "source": [
    "#Plot the decision boundary. For that, we will assign a color to each\n",
    "# point in the mesh [x_min, x_max]x[y_min, y_max].\n",
    "x_min, x_max = X[:, 0].min() - .5, X[:, 0].max() + .5\n",
    "y_min, y_max = X[:, 1].min() - .5, X[:, 1].max() + .5\n",
    "h = .02  # step size in the mesh\n",
    "xx, yy = np.meshgrid(np.arange(x_min, x_max, h), np.arange(y_min, y_max, h))\n",
    "Z = logreg.predict(np.c_[xx.ravel(), yy.ravel()])\n",
    " \n",
    "# Put the result into a color plot\n",
    "Z = Z.reshape(xx.shape)\n",
    "plt.figure(1, figsize=(10, 5))\n",
    "plt.pcolormesh(xx, yy, Z, cmap=plt.cm.Paired)\n",
    " \n",
    "# Plot also the training points\n",
    "plt.scatter(X[:, 0], X[:, 1], c=Y, edgecolors='k', cmap=plt.cm.Paired)\n",
    "plt.xlabel('Sepal length')\n",
    "plt.ylabel('Sepal width')\n",
    " \n",
    "plt.xlim(xx.min(), xx.max())\n",
    "plt.ylim(yy.min(), yy.max())\n",
    "plt.xticks(())\n",
    "plt.yticks(())\n",
    " \n",
    "plt.show()"
   ]
  },
  {
   "cell_type": "markdown",
   "metadata": {},
   "source": [
    "Ex. 3.: Using method predict_proba please predict the probability of being a member of a given class."
   ]
  },
  {
   "cell_type": "code",
   "execution_count": 84,
   "metadata": {},
   "outputs": [
    {
     "data": {
      "text/plain": [
       "array([[9.23473153e-01, 5.85080967e-02, 1.80187501e-02],\n",
       "       [7.91565001e-01, 1.80912648e-01, 2.75223510e-02],\n",
       "       [9.42364041e-01, 5.08634498e-02, 6.77250960e-03],\n",
       "       [9.40553540e-01, 5.37594346e-02, 5.68702546e-03],\n",
       "       [9.61853130e-01, 2.96143932e-02, 8.53247725e-03],\n",
       "       [9.43195775e-01, 3.40879207e-02, 2.27163048e-02],\n",
       "       [9.80228540e-01, 1.74171057e-02, 2.35435467e-03],\n",
       "       [9.22927337e-01, 6.19217567e-02, 1.51509067e-02],\n",
       "       [9.35998984e-01, 5.99949470e-02, 4.00606950e-03],\n",
       "       [8.47181712e-01, 1.31165035e-01, 2.16532530e-02],\n",
       "       [8.90214168e-01, 7.01091740e-02, 3.96766576e-02],\n",
       "       [9.60793368e-01, 3.31735691e-02, 6.03306252e-03],\n",
       "       [8.43554938e-01, 1.38305338e-01, 1.81397240e-02],\n",
       "       [9.67965497e-01, 3.01509884e-02, 1.88351450e-03],\n",
       "       [8.24095093e-01, 7.61837358e-02, 9.97211710e-02],\n",
       "       [9.65419483e-01, 1.34828235e-02, 2.10976937e-02],\n",
       "       [9.43195775e-01, 3.40879207e-02, 2.27163048e-02],\n",
       "       [9.23473153e-01, 5.85080967e-02, 1.80187501e-02],\n",
       "       [7.79417961e-01, 1.12636786e-01, 1.07945252e-01],\n",
       "       [9.73286839e-01, 1.91694663e-02, 7.54369519e-03],\n",
       "       [7.32310638e-01, 1.85523196e-01, 8.21661667e-02],\n",
       "       [9.61891667e-01, 2.79663749e-02, 1.01419581e-02],\n",
       "       [9.90636675e-01, 8.07758178e-03, 1.28574312e-03],\n",
       "       [8.51665510e-01, 1.17582432e-01, 3.07520580e-02],\n",
       "       [9.60793368e-01, 3.31735691e-02, 6.03306252e-03],\n",
       "       [7.27371228e-01, 2.31736927e-01, 4.08918450e-02],\n",
       "       [9.22927337e-01, 6.19217567e-02, 1.51509067e-02],\n",
       "       [8.92963511e-01, 7.88646149e-02, 2.81718743e-02],\n",
       "       [8.52303481e-01, 1.11117786e-01, 3.65787332e-02],\n",
       "       [9.42364041e-01, 5.08634498e-02, 6.77250960e-03],\n",
       "       [8.87410279e-01, 9.85619262e-02, 1.40277943e-02],\n",
       "       [7.32310638e-01, 1.85523196e-01, 8.21661667e-02],\n",
       "       [9.86667024e-01, 8.42120108e-03, 4.91177463e-03],\n",
       "       [9.69809427e-01, 1.51886551e-02, 1.50019177e-02],\n",
       "       [8.47181712e-01, 1.31165035e-01, 2.16532530e-02],\n",
       "       [8.49919111e-01, 1.24261055e-01, 2.58198340e-02],\n",
       "       [7.28548526e-01, 1.74291936e-01, 9.71595381e-02],\n",
       "       [9.73166497e-01, 2.14943564e-02, 5.33914706e-03],\n",
       "       [9.55504912e-01, 4.14888482e-02, 3.00624006e-03],\n",
       "       [8.92801976e-01, 8.35002316e-02, 2.36977928e-02],\n",
       "       [9.45610697e-01, 4.29781081e-02, 1.14111949e-02],\n",
       "       [5.08019125e-01, 4.69700679e-01, 2.22801966e-02],\n",
       "       [9.78831792e-01, 1.95040516e-02, 1.66415611e-03],\n",
       "       [9.45610697e-01, 4.29781081e-02, 1.14111949e-02],\n",
       "       [9.73286839e-01, 1.91694663e-02, 7.54369519e-03],\n",
       "       [8.43554938e-01, 1.38305338e-01, 1.81397240e-02],\n",
       "       [9.73286839e-01, 1.91694663e-02, 7.54369519e-03],\n",
       "       [9.58621742e-01, 3.71174048e-02, 4.26085305e-03],\n",
       "       [9.22456615e-01, 5.21158133e-02, 2.54275715e-02],\n",
       "       [8.91763818e-01, 8.83215025e-02, 1.99146799e-02],\n",
       "       [1.76572018e-03, 1.98159499e-01, 8.00074781e-01],\n",
       "       [2.40076870e-02, 3.67199992e-01, 6.08792321e-01],\n",
       "       [1.99574013e-03, 2.37181640e-01, 7.60822620e-01],\n",
       "       [3.12773276e-02, 8.01195592e-01, 1.67527081e-01],\n",
       "       [4.12101612e-03, 4.17231224e-01, 5.78647760e-01],\n",
       "       [9.00352823e-02, 6.39338696e-01, 2.70626022e-01],\n",
       "       [5.00960383e-02, 3.72355785e-01, 5.77548177e-01],\n",
       "       [2.78914381e-01, 6.59626821e-01, 6.14587984e-02],\n",
       "       [3.79506425e-03, 3.62833651e-01, 6.33371285e-01],\n",
       "       [2.97488368e-01, 5.92441125e-01, 1.10070507e-01],\n",
       "       [5.59442888e-02, 8.75796694e-01, 6.82590174e-02],\n",
       "       [8.63671190e-02, 5.46888217e-01, 3.66744664e-01],\n",
       "       [3.56431035e-03, 7.09429360e-01, 2.87006329e-01],\n",
       "       [2.91837970e-02, 5.30085993e-01, 4.40730210e-01],\n",
       "       [1.71899629e-01, 5.93192401e-01, 2.34907970e-01],\n",
       "       [4.80817490e-03, 2.94065298e-01, 7.01126527e-01],\n",
       "       [2.30298054e-01, 5.38356630e-01, 2.31345316e-01],\n",
       "       [4.49972717e-02, 6.57509546e-01, 2.97493182e-01],\n",
       "       [1.67146323e-03, 6.46463533e-01, 3.51865004e-01],\n",
       "       [4.53180332e-02, 7.42600197e-01, 2.12081770e-01],\n",
       "       [1.61278941e-01, 4.68647294e-01, 3.70073764e-01],\n",
       "       [2.06795629e-02, 5.54481076e-01, 4.24839361e-01],\n",
       "       [3.29151673e-03, 5.51667659e-01, 4.45040824e-01],\n",
       "       [2.06795629e-02, 5.54481076e-01, 4.24839361e-01],\n",
       "       [8.76895928e-03, 4.31442498e-01, 5.59788543e-01],\n",
       "       [5.30645362e-03, 3.43678178e-01, 6.51015369e-01],\n",
       "       [1.15102046e-03, 3.15664591e-01, 6.83184389e-01],\n",
       "       [3.45245160e-03, 3.11696525e-01, 6.84851023e-01],\n",
       "       [4.27896195e-02, 5.57553028e-01, 3.99657352e-01],\n",
       "       [4.53796747e-02, 7.02200804e-01, 2.52419521e-01],\n",
       "       [4.48630038e-02, 7.78496059e-01, 1.76640937e-01],\n",
       "       [4.48630038e-02, 7.78496059e-01, 1.76640937e-01],\n",
       "       [4.49972717e-02, 6.57509546e-01, 2.97493182e-01],\n",
       "       [2.14231027e-02, 6.08291583e-01, 3.70285315e-01],\n",
       "       [3.86511408e-01, 4.64973881e-01, 1.48514711e-01],\n",
       "       [2.05603828e-01, 3.82185971e-01, 4.12210201e-01],\n",
       "       [4.80817490e-03, 2.94065298e-01, 7.01126527e-01],\n",
       "       [1.62221936e-03, 5.92478670e-01, 4.05899111e-01],\n",
       "       [2.30298054e-01, 5.38356630e-01, 2.31345316e-01],\n",
       "       [6.38999207e-02, 7.51151515e-01, 1.84948564e-01],\n",
       "       [9.01646754e-02, 7.17997298e-01, 1.91838027e-01],\n",
       "       [4.09736735e-02, 5.04160240e-01, 4.54866086e-01],\n",
       "       [3.16815360e-02, 6.83381081e-01, 2.84937383e-01],\n",
       "       [1.57448972e-01, 7.66240053e-01, 7.63109745e-02],\n",
       "       [9.05091442e-02, 6.80604446e-01, 2.28886410e-01],\n",
       "       [1.69984524e-01, 5.53918615e-01, 2.76096861e-01],\n",
       "       [1.24689657e-01, 5.99801917e-01, 2.75508426e-01],\n",
       "       [1.97090916e-02, 4.99031453e-01, 4.81259455e-01],\n",
       "       [2.20428334e-01, 6.86226573e-01, 9.33450928e-02],\n",
       "       [9.00352823e-02, 6.39338696e-01, 2.70626022e-01],\n",
       "       [5.00960383e-02, 3.72355785e-01, 5.77548177e-01],\n",
       "       [4.49972717e-02, 6.57509546e-01, 2.97493182e-01],\n",
       "       [5.89031596e-04, 2.00802940e-01, 7.98608028e-01],\n",
       "       [1.31966235e-02, 4.65780087e-01, 5.21023290e-01],\n",
       "       [8.10784206e-03, 3.76700403e-01, 6.15191754e-01],\n",
       "       [5.95999427e-05, 1.06945179e-01, 8.92995221e-01],\n",
       "       [3.61785538e-01, 5.79612522e-01, 5.86019398e-02],\n",
       "       [1.72393052e-04, 1.68579839e-01, 8.31247768e-01],\n",
       "       [6.41854469e-04, 4.06204884e-01, 5.93153262e-01],\n",
       "       [2.54560524e-03, 1.16905316e-01, 8.80549079e-01],\n",
       "       [1.57921385e-02, 3.36705387e-01, 6.47502474e-01],\n",
       "       [4.41792083e-03, 4.73668474e-01, 5.21913605e-01],\n",
       "       [2.23418704e-03, 2.81177567e-01, 7.16588246e-01],\n",
       "       [3.18378264e-02, 7.27250780e-01, 2.40911393e-01],\n",
       "       [6.34571988e-02, 6.28139256e-01, 3.08403546e-01],\n",
       "       [2.40076870e-02, 3.67199992e-01, 6.08792321e-01],\n",
       "       [8.10784206e-03, 3.76700403e-01, 6.15191754e-01],\n",
       "       [4.59216296e-04, 5.09404415e-02, 9.48600342e-01],\n",
       "       [1.05436640e-05, 1.25235391e-01, 8.74754066e-01],\n",
       "       [3.56431035e-03, 7.09429360e-01, 2.87006329e-01],\n",
       "       [2.76437439e-03, 2.22552817e-01, 7.74682809e-01],\n",
       "       [1.25738529e-01, 6.40515812e-01, 2.33745659e-01],\n",
       "       [1.98870889e-05, 1.08398943e-01, 8.91581170e-01],\n",
       "       [6.62355773e-03, 5.09437721e-01, 4.83938721e-01],\n",
       "       [9.27098556e-03, 2.60200269e-01, 7.30528745e-01],\n",
       "       [7.12415091e-04, 1.55360168e-01, 8.43927417e-01],\n",
       "       [1.39676203e-02, 5.22064992e-01, 4.63967387e-01],\n",
       "       [4.09736735e-02, 5.04160240e-01, 4.54866086e-01],\n",
       "       [6.23163052e-03, 4.52602977e-01, 5.41165393e-01],\n",
       "       [3.74757037e-04, 1.78089392e-01, 8.21535851e-01],\n",
       "       [7.92450214e-05, 1.59461367e-01, 8.40459388e-01],\n",
       "       [1.78031073e-04, 3.83755647e-02, 9.61446404e-01],\n",
       "       [6.23163052e-03, 4.52602977e-01, 5.41165393e-01],\n",
       "       [9.36228810e-03, 4.87799030e-01, 5.02838682e-01],\n",
       "       [1.02620188e-02, 5.99597570e-01, 3.90140411e-01],\n",
       "       [3.74132250e-05, 9.35830714e-02, 9.06379515e-01],\n",
       "       [6.89178654e-02, 3.47012963e-01, 5.84069172e-01],\n",
       "       [1.72192325e-02, 3.88782738e-01, 5.93998029e-01],\n",
       "       [5.99061878e-02, 5.28784353e-01, 4.11309459e-01],\n",
       "       [1.99574013e-03, 2.37181640e-01, 7.60822620e-01],\n",
       "       [4.80817490e-03, 2.94065298e-01, 7.01126527e-01],\n",
       "       [1.99574013e-03, 2.37181640e-01, 7.60822620e-01],\n",
       "       [4.49972717e-02, 6.57509546e-01, 2.97493182e-01],\n",
       "       [4.30900105e-03, 2.48860550e-01, 7.46830448e-01],\n",
       "       [9.27098556e-03, 2.60200269e-01, 7.30528745e-01],\n",
       "       [3.45245160e-03, 3.11696525e-01, 6.84851023e-01],\n",
       "       [3.29151673e-03, 5.51667659e-01, 4.45040824e-01],\n",
       "       [8.10784206e-03, 3.76700403e-01, 6.15191754e-01],\n",
       "       [1.01486572e-01, 3.66577399e-01, 5.31936029e-01],\n",
       "       [8.63671190e-02, 5.46888217e-01, 3.66744664e-01]])"
      ]
     },
     "execution_count": 84,
     "metadata": {},
     "output_type": "execute_result"
    }
   ],
   "source": [
    "y_pred_proba = logreg.predict_proba(X)\n",
    "y_pred_proba"
   ]
  },
  {
   "cell_type": "code",
   "execution_count": 98,
   "metadata": {},
   "outputs": [
    {
     "data": {
      "text/html": [
       "<div>\n",
       "<style scoped>\n",
       "    .dataframe tbody tr th:only-of-type {\n",
       "        vertical-align: middle;\n",
       "    }\n",
       "\n",
       "    .dataframe tbody tr th {\n",
       "        vertical-align: top;\n",
       "    }\n",
       "\n",
       "    .dataframe thead th {\n",
       "        text-align: right;\n",
       "    }\n",
       "</style>\n",
       "<table border=\"1\" class=\"dataframe\">\n",
       "  <thead>\n",
       "    <tr style=\"text-align: right;\">\n",
       "      <th></th>\n",
       "      <th>prob1</th>\n",
       "      <th>prob2</th>\n",
       "      <th>prob3</th>\n",
       "      <th>y_true</th>\n",
       "    </tr>\n",
       "  </thead>\n",
       "  <tbody>\n",
       "    <tr>\n",
       "      <th>0</th>\n",
       "      <td>0.923473</td>\n",
       "      <td>0.058508</td>\n",
       "      <td>0.018019</td>\n",
       "      <td>0</td>\n",
       "    </tr>\n",
       "    <tr>\n",
       "      <th>1</th>\n",
       "      <td>0.791565</td>\n",
       "      <td>0.180913</td>\n",
       "      <td>0.027522</td>\n",
       "      <td>0</td>\n",
       "    </tr>\n",
       "    <tr>\n",
       "      <th>2</th>\n",
       "      <td>0.942364</td>\n",
       "      <td>0.050863</td>\n",
       "      <td>0.006773</td>\n",
       "      <td>0</td>\n",
       "    </tr>\n",
       "    <tr>\n",
       "      <th>3</th>\n",
       "      <td>0.940554</td>\n",
       "      <td>0.053759</td>\n",
       "      <td>0.005687</td>\n",
       "      <td>0</td>\n",
       "    </tr>\n",
       "    <tr>\n",
       "      <th>4</th>\n",
       "      <td>0.961853</td>\n",
       "      <td>0.029614</td>\n",
       "      <td>0.008532</td>\n",
       "      <td>0</td>\n",
       "    </tr>\n",
       "    <tr>\n",
       "      <th>...</th>\n",
       "      <td>...</td>\n",
       "      <td>...</td>\n",
       "      <td>...</td>\n",
       "      <td>...</td>\n",
       "    </tr>\n",
       "    <tr>\n",
       "      <th>145</th>\n",
       "      <td>0.003452</td>\n",
       "      <td>0.311697</td>\n",
       "      <td>0.684851</td>\n",
       "      <td>2</td>\n",
       "    </tr>\n",
       "    <tr>\n",
       "      <th>146</th>\n",
       "      <td>0.003292</td>\n",
       "      <td>0.551668</td>\n",
       "      <td>0.445041</td>\n",
       "      <td>2</td>\n",
       "    </tr>\n",
       "    <tr>\n",
       "      <th>147</th>\n",
       "      <td>0.008108</td>\n",
       "      <td>0.376700</td>\n",
       "      <td>0.615192</td>\n",
       "      <td>2</td>\n",
       "    </tr>\n",
       "    <tr>\n",
       "      <th>148</th>\n",
       "      <td>0.101487</td>\n",
       "      <td>0.366577</td>\n",
       "      <td>0.531936</td>\n",
       "      <td>2</td>\n",
       "    </tr>\n",
       "    <tr>\n",
       "      <th>149</th>\n",
       "      <td>0.086367</td>\n",
       "      <td>0.546888</td>\n",
       "      <td>0.366745</td>\n",
       "      <td>2</td>\n",
       "    </tr>\n",
       "  </tbody>\n",
       "</table>\n",
       "<p>150 rows × 4 columns</p>\n",
       "</div>"
      ],
      "text/plain": [
       "        prob1     prob2     prob3  y_true\n",
       "0    0.923473  0.058508  0.018019       0\n",
       "1    0.791565  0.180913  0.027522       0\n",
       "2    0.942364  0.050863  0.006773       0\n",
       "3    0.940554  0.053759  0.005687       0\n",
       "4    0.961853  0.029614  0.008532       0\n",
       "..        ...       ...       ...     ...\n",
       "145  0.003452  0.311697  0.684851       2\n",
       "146  0.003292  0.551668  0.445041       2\n",
       "147  0.008108  0.376700  0.615192       2\n",
       "148  0.101487  0.366577  0.531936       2\n",
       "149  0.086367  0.546888  0.366745       2\n",
       "\n",
       "[150 rows x 4 columns]"
      ]
     },
     "execution_count": 98,
     "metadata": {},
     "output_type": "execute_result"
    }
   ],
   "source": [
    "df = pd.DataFrame(data=y_pred_proba, columns=['prob1', 'prob2', 'prob3'])\n",
    "df.insert(3, 'y_true', Y)\n",
    "df"
   ]
  },
  {
   "cell_type": "markdown",
   "metadata": {},
   "source": [
    "Ex. 4.: Evaluation - please assess the accuracy of the algorithms using a variety of metrics (at least 2)"
   ]
  },
  {
   "cell_type": "code",
   "execution_count": 85,
   "metadata": {},
   "outputs": [
    {
     "data": {
      "text/plain": [
       "0.82"
      ]
     },
     "execution_count": 85,
     "metadata": {},
     "output_type": "execute_result"
    }
   ],
   "source": [
    "logreg.score(X, Y)"
   ]
  },
  {
   "cell_type": "code",
   "execution_count": 87,
   "metadata": {},
   "outputs": [
    {
     "data": {
      "text/plain": [
       "0.18"
      ]
     },
     "execution_count": 87,
     "metadata": {},
     "output_type": "execute_result"
    }
   ],
   "source": [
    "mean_squared_error(Y, logreg.predict(X))"
   ]
  },
  {
   "cell_type": "code",
   "execution_count": 88,
   "metadata": {},
   "outputs": [
    {
     "data": {
      "text/plain": [
       "0.82"
      ]
     },
     "execution_count": 88,
     "metadata": {},
     "output_type": "execute_result"
    }
   ],
   "source": [
    "accuracy_score(Y, logreg.predict(X))"
   ]
  },
  {
   "cell_type": "code",
   "execution_count": null,
   "metadata": {},
   "outputs": [],
   "source": []
  }
 ],
 "metadata": {
  "interpreter": {
   "hash": "12e419c0cbafa0028977004efe0fb1511f20aa18284fa408fe967fe67cb60a73"
  },
  "kernelspec": {
   "display_name": "Python 3.8.11 ('dominikzurek')",
   "language": "python",
   "name": "python3"
  },
  "language_info": {
   "codemirror_mode": {
    "name": "ipython",
    "version": 3
   },
   "file_extension": ".py",
   "mimetype": "text/x-python",
   "name": "python",
   "nbconvert_exporter": "python",
   "pygments_lexer": "ipython3",
   "version": "3.8.8"
  },
  "orig_nbformat": 4
 },
 "nbformat": 4,
 "nbformat_minor": 2
}
